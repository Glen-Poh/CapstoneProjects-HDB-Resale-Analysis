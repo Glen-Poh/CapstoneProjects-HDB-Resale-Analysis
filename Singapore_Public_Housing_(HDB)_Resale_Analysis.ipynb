{
 "cells": [
  {
   "cell_type": "markdown",
   "id": "5cff9495",
   "metadata": {},
   "source": [
    "# Capstone Project: Singapore Public Housing (HDB) Resale Analysis\n",
    "\n",
    "**Heicoders Academy: AI100 Python Programming and Data Visualisation**\n",
    "\n",
    "<b>Introduction:</b>\n",
    "<img src='data:image/webp;base64,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\n",
    "'/>\n",
    "\n",
    "In this project, we seek to build data visualisation to shed light on the HDB resale market, and provide key consideration parameters to help us make better decisions in choosing a:\n",
    "\n",
    "(1) HDB Resale flat, or\n",
    "<br>(2) BTO flats that are likely to appreciate in the resale market\n",
    "\n",
    "\n",
    "<b>Dataset Used:</b> \n",
    "<br>HDB Resale Data from January 2017 to June 2020 (Adapted from [data.gov.sg](https://data.gov.sg/dataset/resale-flat-prices))"
   ]
  },
  {
   "cell_type": "code",
   "execution_count": null,
   "id": "d8c986cf",
   "metadata": {},
   "outputs": [],
   "source": [
    "#Import csv data of Singapore HDB listings\n",
    "\n",
    "import csv\n",
    "\n",
    "hdb_resale_listings = []\n",
    "\n",
    "with open('data/HDB_Resale_With_Geocoordinates.csv', newline='', encoding=\"utf8\") as f:\n",
    "    reader = csv.reader(f)\n",
    "    for row in reader:\n",
    "        hdb_resale_listings.append(row)\n",
    "\n",
    "    # Remove data header\n",
    "    hdb_resale_listings_headers = hdb_resale_listings[0]\n",
    "    hdb_resale_listings = hdb_resale_listings[1:]\n",
    "    "
   ]
  },
  {
   "cell_type": "code",
   "execution_count": null,
   "id": "7095f545",
   "metadata": {
    "scrolled": true
   },
   "outputs": [],
   "source": [
    "# Visualise csv dataset using pandas\n",
    "\n",
    "import pandas as pd\n",
    "\n",
    "hdb_resale_df = pd.read_csv(\"data/HDB_Resale_With_Geocoordinates.csv\")\n",
    "hdb_resale_df"
   ]
  },
  {
   "cell_type": "markdown",
   "id": "d97e35a3",
   "metadata": {},
   "source": [
    "## 1. Data Cleaning"
   ]
  },
  {
   "cell_type": "code",
   "execution_count": null,
   "id": "d59650b9",
   "metadata": {},
   "outputs": [],
   "source": [
    "# Clean csv dataset\n",
    "\n",
    "for row in hdb_resale_listings:\n",
    "    \n",
    "    # Extract data from specific columns and store into variables for easy access\n",
    "    floor_area_sqm = row[6]\n",
    "    lease_remaining = row[9]                 \n",
    "    resale_price = row[10]\n",
    "    longitude = row[12]\n",
    "    latitude = row[13]\n",
    "    \n",
    "    row[6] = float(floor_area_sqm)\n",
    "    \n",
    "    # If lease_remaining info is of string data type\n",
    "    if isinstance(lease_remaining,str):\n",
    "        row[9] = int(lease_remaining[:2]) # Get years of lease remaining with slicing, and convert it to int type\n",
    "   \n",
    "    row[10] = float(resale_price)\n",
    "    \n",
    "    if longitude == '':\n",
    "        row[12] = 0\n",
    "    else:\n",
    "        row[12] = float(longitude)\n",
    "        \n",
    "    if latitude == '':\n",
    "        row[13] = 0\n",
    "    else:\n",
    "        row[13] = float(latitude)\n",
    "\n",
    "print(hdb_resale_listings[:5])"
   ]
  },
  {
   "cell_type": "code",
   "execution_count": null,
   "id": "229891e4",
   "metadata": {
    "scrolled": true
   },
   "outputs": [],
   "source": [
    "# Visualise the cleaned dataset \n",
    "\n",
    "hdb_resale_df = pd.DataFrame(hdb_resale_listings, columns = hdb_resale_listings_headers)\n",
    "hdb_resale_df.head()"
   ]
  },
  {
   "cell_type": "markdown",
   "id": "c868e016",
   "metadata": {},
   "source": [
    "## 2. Calculating the Average Resale Value in Each Town\n",
    "\n",
    "- Calculate the average resale value of HDB resale flats for each town.\n",
    "- Visualise which town has the highest resale value."
   ]
  },
  {
   "cell_type": "code",
   "execution_count": null,
   "id": "eb1d89a0",
   "metadata": {},
   "outputs": [],
   "source": [
    "#Number of resale flats in each town\n",
    "\n",
    "resale_counts_by_town = {}  \n",
    "\n",
    "for row in hdb_resale_listings:\n",
    "    \n",
    "    hdb_town = row[1]\n",
    "    \n",
    "    if hdb_town in resale_counts_by_town:\n",
    "        \n",
    "        resale_counts_by_town[hdb_town] += 1\n",
    "    else:\n",
    "        \n",
    "        resale_counts_by_town[hdb_town] = 1\n",
    "\n",
    "import operator\n",
    "\n",
    "sorted_resale_counts_by_town = dict(sorted(resale_counts_by_town.items(), key=operator.itemgetter(1),reverse=True))\n",
    "\n",
    "print(sorted_resale_counts_by_town)"
   ]
  },
  {
   "cell_type": "code",
   "execution_count": null,
   "id": "d255075b",
   "metadata": {},
   "outputs": [],
   "source": [
    "# Visualise the number of resale flats in each town using Matplotlib\n",
    "\n",
    "import matplotlib.pyplot as plt\n",
    "\n",
    "hdb_town = list(sorted_resale_counts_by_town.keys())\n",
    "number_of_resale_listing = list(sorted_resale_counts_by_town.values())\n",
    "\n",
    "fig, ax = plt.subplots()\n",
    "\n",
    "ax.bar(hdb_town,number_of_resale_listing)\n",
    "\n",
    "ax.set_xlabel('Town')\n",
    "ax.set_ylabel('Number of Resale Flats')\n",
    "ax.set_title('Counts of Resale Flats from Jan 2017 to June 2020')\n",
    "\n",
    "ax.set_xticks(hdb_town)\n",
    "ax.set_xticklabels(hdb_town,rotation=90)\n",
    "\n",
    "plt.show()"
   ]
  },
  {
   "cell_type": "code",
   "execution_count": null,
   "id": "1dde4757",
   "metadata": {},
   "outputs": [],
   "source": [
    "#Calculating the total sale value in each town\n",
    "\n",
    "town_resale_value_total = {} \n",
    "\n",
    "for row in hdb_resale_listings:\n",
    "    \n",
    "    hdb_town = row[1]\n",
    "    resale_price = row[10]\n",
    "    \n",
    "    if hdb_town in town_resale_value_total:\n",
    "        \n",
    "        town_resale_value_total[hdb_town] += resale_price\n",
    "    else:\n",
    "        \n",
    "        town_resale_value_total[hdb_town] = resale_price\n",
    "    \n",
    "print(town_resale_value_total)"
   ]
  },
  {
   "cell_type": "code",
   "execution_count": null,
   "id": "203bebbd",
   "metadata": {},
   "outputs": [],
   "source": [
    "#Calculate the average resale value in each town\n",
    "\n",
    "town_resale_average = {} \n",
    "\n",
    "for town, value in town_resale_value_total.items():\n",
    "    \n",
    "    average_value = value / resale_counts_by_town[town]\n",
    "    \n",
    "    town_resale_average[town] = round(average_value)\n",
    "\n",
    "import operator\n",
    "\n",
    "town_resale_average_desc = dict(sorted(town_resale_average.items(), key=operator.itemgetter(1),reverse=True))\n",
    "\n",
    "print(town_resale_average_desc)"
   ]
  },
  {
   "cell_type": "code",
   "execution_count": null,
   "id": "2854f226",
   "metadata": {},
   "outputs": [],
   "source": [
    "#Visualise the average resale value in each town\n",
    "\n",
    "hdb_town = list(town_resale_average_desc.keys())\n",
    "average_resale_value = list(town_resale_average_desc.values())\n",
    "\n",
    "fig, ax = plt.subplots()\n",
    "\n",
    "ax.bar(hdb_town, average_resale_value)\n",
    "\n",
    "ax.set_xlabel('Town')\n",
    "ax.set_ylabel('Average Resale Value')\n",
    "ax.set_title('Average Resale Value in Each Town')\n",
    "\n",
    "ax.set_xticks(hdb_town)\n",
    "ax.set_xticklabels(hdb_town, rotation = 90)\n",
    "\n",
    "plt.show()"
   ]
  },
  {
   "cell_type": "markdown",
   "id": "10d97ba2",
   "metadata": {},
   "source": [
    "HDB flats in central areas like Bukit Timah and Bishan have some of the highest resale values.\n",
    "<br>As a non-mature estate, the average resale value of Punggol flats is not that far off from matured estates like Clementi, Tampines & Serangoon."
   ]
  },
  {
   "cell_type": "markdown",
   "id": "8071fde8",
   "metadata": {},
   "source": [
    "## 3. Calculating the Average Resale Value for Remaining Lease Period for HDB\n",
    "\n",
    "- Calculate the average resale value for the different remaining lease period.\n",
    "- Assess if the remaining lease period affects the resale value"
   ]
  },
  {
   "cell_type": "code",
   "execution_count": null,
   "id": "a7d487b7",
   "metadata": {},
   "outputs": [],
   "source": [
    "# Number of flat for each remaining lease period\n",
    "resale_count_for_lease_year_remaining = {}\n",
    "\n",
    "for row in hdb_resale_listings:\n",
    "    \n",
    "    remaining_lease = row[9]\n",
    "    \n",
    "    if remaining_lease in resale_count_for_lease_year_remaining:\n",
    "        \n",
    "        resale_count_for_lease_year_remaining[remaining_lease] += 1\n",
    "        \n",
    "    else:\n",
    "        \n",
    "        resale_count_for_lease_year_remaining[remaining_lease] = 1\n",
    "\n",
    "sorted_resale_count_for_lease_year_remaining = dict(sorted(resale_count_for_lease_year_remaining.items()))\n",
    "\n",
    "print(sorted_resale_count_for_lease_year_remaining)"
   ]
  },
  {
   "cell_type": "code",
   "execution_count": null,
   "id": "01c2e7b7",
   "metadata": {},
   "outputs": [],
   "source": [
    "# Calculating the total resale value for each remaining lease period.\n",
    "resale_value_for_lease_year_remaining = {}\n",
    "\n",
    "for row in hdb_resale_listings:\n",
    "    \n",
    "    remaining_lease = row[9]\n",
    "    resale_price = row[10]\n",
    "    \n",
    "    if remaining_lease in resale_value_for_lease_year_remaining:\n",
    "        \n",
    "        resale_value_for_lease_year_remaining[remaining_lease] += resale_price\n",
    "        \n",
    "    else:\n",
    "        resale_value_for_lease_year_remaining[remaining_lease] = resale_price\n",
    "        \n",
    "sorted_resale_value_for_lease_year_remaining = dict(sorted(resale_value_for_lease_year_remaining.items()))\n",
    "\n",
    "print(sorted_resale_value_for_lease_year_remaining)"
   ]
  },
  {
   "cell_type": "code",
   "execution_count": null,
   "id": "18b549e9",
   "metadata": {},
   "outputs": [],
   "source": [
    "# Calulating the average resale value for each remaining lease period\n",
    "average_resale_for_lease_year_remaining = {} \n",
    "\n",
    "for years, value in sorted_resale_value_for_lease_year_remaining.items():\n",
    "    \n",
    "    average_value = value / resale_count_for_lease_year_remaining[years]\n",
    "    \n",
    "    average_resale_for_lease_year_remaining[years] = round(average_value)\n",
    "\n",
    "import operator\n",
    "\n",
    "sorted_average_resale_for_lease_year_remaining = dict(sorted(average_resale_for_lease_year_remaining.items()))\n",
    "\n",
    "print(sorted_average_resale_for_lease_year_remaining)"
   ]
  },
  {
   "cell_type": "code",
   "execution_count": null,
   "id": "357e2f42",
   "metadata": {},
   "outputs": [],
   "source": [
    "#Visualise the average resale value in each each remaining lease period\n",
    "\n",
    "lease = list(sorted_average_resale_for_lease_year_remaining.keys())\n",
    "average_resale_value = list(sorted_average_resale_for_lease_year_remaining.values())\n",
    "\n",
    "fig, ax = plt.subplots()\n",
    "\n",
    "ax.plot(lease, average_resale_value, marker='d')\n",
    "\n",
    "ax.set_xlabel('Lease Remaining')\n",
    "ax.set_ylabel('Resale Value')\n",
    "ax.set_title('Average Resale Value for Lease Years Remaining')\n",
    "\n",
    "plt.show()\n"
   ]
  },
  {
   "cell_type": "markdown",
   "id": "fb1541a7",
   "metadata": {},
   "source": [
    "The chart illustrates that there is a close correlation between the remaining lease period and the resale value of flats sold after 2017. The shorter the remaining lease, the lower the resale value. \n",
    "\n",
    "Another observation from this chart is that, BTO owners who sell their flats near the Minimum Occupancy Period (MOP), with about 90 years of lease remaining, are likely to gain maximum resale value out of on their subsidised flats."
   ]
  },
  {
   "cell_type": "markdown",
   "id": "5adacbaf",
   "metadata": {},
   "source": [
    "## 4. How does Floor Area Correlate with Resale Price?\n",
    "\n",
    "- Establish the relationship between floor area and HDB resale prices."
   ]
  },
  {
   "cell_type": "code",
   "execution_count": null,
   "id": "ed4caa14",
   "metadata": {},
   "outputs": [],
   "source": [
    "floor_area_sqm = []\n",
    "resale_price = []\n",
    "\n",
    "for row in hdb_resale_listings:\n",
    "    \n",
    "    floor_area_sqm.append(row[6])\n",
    "    resale_price.append(row[10])\n",
    "\n",
    "fig, ax = plt.subplots(figsize=(18,12))\n",
    "\n",
    "ax.scatter(floor_area_sqm, resale_price)\n",
    "\n",
    "ax.set_xlabel('Floor Area (in square meters)')\n",
    "ax.set_ylabel('Sale Price (in million SGD)')\n",
    "\n",
    "\n",
    "plt.show()\n"
   ]
  },
  {
   "cell_type": "markdown",
   "id": "70e894d0",
   "metadata": {},
   "source": [
    "The scatterplot above shows that floor area is closely and positively correlated with HDB resale prices. The larger the HDB flat, the higher the resale prices"
   ]
  },
  {
   "cell_type": "markdown",
   "id": "563b65c7",
   "metadata": {},
   "source": [
    "## 5. Visualise geographical distribution & resales prices of all 4-rooms HDB resale listings in Singapore using Folium Marker Cluster"
   ]
  },
  {
   "cell_type": "code",
   "execution_count": null,
   "id": "d2c72904",
   "metadata": {},
   "outputs": [],
   "source": [
    "import folium\n",
    "from folium.plugins import MarkerCluster\n",
    "\n",
    "lat_long = []\n",
    "\n",
    "for row in hdb_resale_listings:\n",
    "    \n",
    "    if row[2] == '4 ROOM':\n",
    "        \n",
    "        lat_long.append([row[13], row[12]])\n",
    "\n",
    "room4_resale_price = []\n",
    "\n",
    "for row in hdb_resale_listings:\n",
    "    \n",
    "    if row[2] == '4 ROOM':\n",
    "        \n",
    "        room4_resale_price.append(row[10])\n",
    "             \n",
    "map_folium = folium.Map([1.357,103.826], height=550, width=900, zoom_start=11.5)\n",
    "\n",
    "marker_cluster = MarkerCluster().add_to(map_folium)\n",
    "\n",
    "for i in range(0,len(lat_long)):\n",
    "    \n",
    "    lat_long_of_one_listing = lat_long[i]    \n",
    "    pop_display_price = '$' + str(room4_resale_price[i])  \n",
    "    \n",
    "    folium.Marker(\n",
    "        location=lat_long_of_one_listing,\n",
    "        popup=pop_display_price,\n",
    "        icon=None,\n",
    "    ).add_to(marker_cluster)\n",
    "\n",
    "display(map_folium)\n"
   ]
  }
 ],
 "metadata": {
  "kernelspec": {
   "display_name": "Python 3 (ipykernel)",
   "language": "python",
   "name": "python3"
  },
  "language_info": {
   "codemirror_mode": {
    "name": "ipython",
    "version": 3
   },
   "file_extension": ".py",
   "mimetype": "text/x-python",
   "name": "python",
   "nbconvert_exporter": "python",
   "pygments_lexer": "ipython3",
   "version": "3.9.7"
  }
 },
 "nbformat": 4,
 "nbformat_minor": 5
}
